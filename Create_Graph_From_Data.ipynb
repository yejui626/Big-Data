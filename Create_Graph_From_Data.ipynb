{
  "cells": [
    {
      "cell_type": "markdown",
      "metadata": {
        "id": "view-in-github",
        "colab_type": "text"
      },
      "source": [
        "<a href=\"https://colab.research.google.com/github/yejui626/Big-Data/blob/main/Create_Graph_From_Data.ipynb\" target=\"_parent\"><img src=\"https://colab.research.google.com/assets/colab-badge.svg\" alt=\"Open In Colab\"/></a>"
      ]
    },
    {
      "cell_type": "markdown",
      "id": "e8ef8901",
      "metadata": {
        "id": "e8ef8901"
      },
      "source": [
        "# Summary of taxi trips taken in January 2017"
      ]
    },
    {
      "cell_type": "code",
      "source": [
        "from google.colab import drive\n",
        "drive.mount('/content/drive')"
      ],
      "metadata": {
        "colab": {
          "base_uri": "https://localhost:8080/"
        },
        "id": "nnSS41nJ405h",
        "outputId": "a0774baf-eb0f-4782-f335-54f1f8dbb6f8"
      },
      "id": "nnSS41nJ405h",
      "execution_count": 1,
      "outputs": [
        {
          "output_type": "stream",
          "name": "stdout",
          "text": [
            "Mounted at /content/drive\n"
          ]
        }
      ]
    },
    {
      "cell_type": "code",
      "execution_count": null,
      "id": "d145a453",
      "metadata": {
        "id": "d145a453"
      },
      "outputs": [],
      "source": [
        "import pandas as pd\n",
        "from bokeh.plotting import figure, output_file, show\n",
        "from bokeh.models import ColumnDataSource\n",
        "\n",
        "output_file('taxidata.html')\n",
        "df = pd.read_csv('/home/ec2-user/yellow_tripdata_2017-01.csv')\n",
        "sample = df.sample (50)\n",
        "source = ColumnDataSource(sample)\n",
        "p=figure()\n",
        "p.circle(x='passenger_count', y='total_amount', source=source, size=10, color='green')\n",
        "p.title.text = 'Taxi rides'\n",
        "p.xaxis.axis_label = \"Passengers\"\n",
        "p.yaxis.axis_label = \"Amount paid\"\n",
        "show(p)"
      ]
    },
    {
      "cell_type": "code",
      "execution_count": null,
      "id": "0f0f2930",
      "metadata": {
        "id": "0f0f2930"
      },
      "outputs": [],
      "source": []
    }
  ],
  "metadata": {
    "kernelspec": {
      "display_name": "conda_python3",
      "language": "python",
      "name": "conda_python3"
    },
    "language_info": {
      "codemirror_mode": {
        "name": "ipython",
        "version": 3
      },
      "file_extension": ".py",
      "mimetype": "text/x-python",
      "name": "python",
      "nbconvert_exporter": "python",
      "pygments_lexer": "ipython3",
      "version": "3.8.12"
    },
    "colab": {
      "provenance": [],
      "include_colab_link": true
    },
    "gpuClass": "standard"
  },
  "nbformat": 4,
  "nbformat_minor": 5
}